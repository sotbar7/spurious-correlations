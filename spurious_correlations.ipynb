{
  "nbformat": 4,
  "nbformat_minor": 0,
  "metadata": {
    "kernelspec": {
      "display_name": "Python 3",
      "language": "python",
      "name": "python3"
    },
    "language_info": {
      "codemirror_mode": {
        "name": "ipython",
        "version": 3
      },
      "file_extension": ".py",
      "mimetype": "text/x-python",
      "name": "python",
      "nbconvert_exporter": "python",
      "pygments_lexer": "ipython3",
      "version": "3.6.4"
    },
    "colab": {
      "name": "spurious_correlations.ipynb",
      "version": "0.3.2",
      "provenance": []
    }
  },
  "cells": [
    {
      "cell_type": "markdown",
      "metadata": {
        "id": "HOexGToesdhO",
        "colab_type": "text"
      },
      "source": [
        "# Data Analytics Project: Spurious Correlations\n",
        "\n",
        "> <strong>Sotiris Baratsas</strong> <br />\n",
        "> MSc in Business Analytics<br />\n"
      ]
    },
    {
      "cell_type": "markdown",
      "metadata": {
        "id": "G91ePO9bsdhR",
        "colab_type": "text"
      },
      "source": [
        "## Per Capita Cheese Consumption and Deaths by Accidential Suffocation and Strangulation in Bed\n",
        "\n",
        "Show that, in the U.S., the per capita cheese consumption is correlated with the number of deaths by accidental suffocation and strangulation in bed. You must provide a figure, showing the situation, and the statistical results you find.\n"
      ]
    },
    {
      "cell_type": "markdown",
      "metadata": {
        "id": "V1We2ZPWsdhS",
        "colab_type": "text"
      },
      "source": [
        "We start our analysis, by importing some libraries we are going to use."
      ]
    },
    {
      "cell_type": "code",
      "metadata": {
        "id": "pnnqqENlsdhT",
        "colab_type": "code",
        "colab": {}
      },
      "source": [
        "import pandas as pd\n",
        "import numpy as np\n",
        "import matplotlib.pyplot as plt\n",
        "from scipy import stats\n",
        "%matplotlib inline"
      ],
      "execution_count": 0,
      "outputs": []
    },
    {
      "cell_type": "markdown",
      "metadata": {
        "id": "hW_Tfi-hsdhX",
        "colab_type": "text"
      },
      "source": [
        "##### Reading the Cheese consumption dataset\n",
        "\n",
        "* We start by reading the cheese consumption dataset, using the `read_excel()` function of pandas.\n",
        "* We use the argument `skiprows=10`, in order to skip the introductory rows that do not provide numerical data.\n",
        "* We use the argument `index_col=0`, in order to set the \"Years\" column as the index.\n",
        "* We use the `.dropna(thresh=1)` to get rid of the columns that have at least one Na or NaN value. That gets rid of the \"Notes\" in the footer of the dataset and leaves us only with the values we want.\n",
        "* Then, we set the data type for the index (Years) to \"integer\".\n",
        "* Finally, we use the `.iloc` function, in order to keep only the columns we want (the 3 cheese columns), and rename them."
      ]
    },
    {
      "cell_type": "code",
      "metadata": {
        "id": "UNtDb8SAsdhY",
        "colab_type": "code",
        "colab": {}
      },
      "source": [
        "cheese = pd.read_excel(\"pcconsp_1_.xlsx\", skiprows=10, index_col=0).dropna(thresh=1)\n",
        "cheese.index = cheese.index.astype(int)\n",
        "cheese = cheese.iloc[:, 3:6].rename(columns={\"Unnamed: 4\": \"american_cheese\",\n",
        "                                             \"Unnamed: 5\": \"other_cheese\", \n",
        "                                             \"Unnamed: 6\": \"cottage_cheese\"})"
      ],
      "execution_count": 0,
      "outputs": []
    },
    {
      "cell_type": "code",
      "metadata": {
        "id": "iI33vhfQsdhb",
        "colab_type": "code",
        "colab": {},
        "outputId": "ba13f63e-c151-45af-8e1d-0052bd1e0ac1"
      },
      "source": [
        "print(cheese.shape) # Dimensions of our dataset\n",
        "cheese.head(5)"
      ],
      "execution_count": 0,
      "outputs": [
        {
          "output_type": "stream",
          "text": [
            "(43, 3)\n"
          ],
          "name": "stdout"
        },
        {
          "output_type": "execute_result",
          "data": {
            "text/html": [
              "<div>\n",
              "<style scoped>\n",
              "    .dataframe tbody tr th:only-of-type {\n",
              "        vertical-align: middle;\n",
              "    }\n",
              "\n",
              "    .dataframe tbody tr th {\n",
              "        vertical-align: top;\n",
              "    }\n",
              "\n",
              "    .dataframe thead th {\n",
              "        text-align: right;\n",
              "    }\n",
              "</style>\n",
              "<table border=\"1\" class=\"dataframe\">\n",
              "  <thead>\n",
              "    <tr style=\"text-align: right;\">\n",
              "      <th></th>\n",
              "      <th>american_cheese</th>\n",
              "      <th>other_cheese</th>\n",
              "      <th>cottage_cheese</th>\n",
              "    </tr>\n",
              "  </thead>\n",
              "  <tbody>\n",
              "    <tr>\n",
              "      <th>1975</th>\n",
              "      <td>8.147222</td>\n",
              "      <td>6.126409</td>\n",
              "      <td>4.588537</td>\n",
              "    </tr>\n",
              "    <tr>\n",
              "      <th>1976</th>\n",
              "      <td>8.883106</td>\n",
              "      <td>6.627872</td>\n",
              "      <td>4.632284</td>\n",
              "    </tr>\n",
              "    <tr>\n",
              "      <th>1977</th>\n",
              "      <td>9.213005</td>\n",
              "      <td>6.781846</td>\n",
              "      <td>4.617711</td>\n",
              "    </tr>\n",
              "    <tr>\n",
              "      <th>1978</th>\n",
              "      <td>9.525359</td>\n",
              "      <td>7.309603</td>\n",
              "      <td>4.600490</td>\n",
              "    </tr>\n",
              "    <tr>\n",
              "      <th>1979</th>\n",
              "      <td>9.597205</td>\n",
              "      <td>7.567657</td>\n",
              "      <td>4.434472</td>\n",
              "    </tr>\n",
              "  </tbody>\n",
              "</table>\n",
              "</div>"
            ],
            "text/plain": [
              "      american_cheese  other_cheese  cottage_cheese\n",
              "1975         8.147222      6.126409        4.588537\n",
              "1976         8.883106      6.627872        4.632284\n",
              "1977         9.213005      6.781846        4.617711\n",
              "1978         9.525359      7.309603        4.600490\n",
              "1979         9.597205      7.567657        4.434472"
            ]
          },
          "metadata": {
            "tags": []
          },
          "execution_count": 3
        }
      ]
    },
    {
      "cell_type": "markdown",
      "metadata": {
        "id": "C9_GRKXNsdhp",
        "colab_type": "text"
      },
      "source": [
        "##### Reading the Causes of Death dataset\n",
        "\n",
        "* We start by reading the Causes of Death dataset, using the `read_csv()` function of pandas.\n",
        "* We use the argument `sep='\\t'`, in order to clarity that we have tab-separated values.\n",
        "* We use the argument `index_col=\"Year\"`, in order to set the \"Years\" column as the index.\n",
        "* We use the argument `header=(0)`, in order to set the first line as the header.\n",
        "* We use the `.dropna(thresh=2)` to get rid of the columns that have at least 2 Na or NaN value. That gets rid of the \"Notes\" in the footer of the dataset and leaves us only with the values we want.\n",
        "* We use the `[\"Deaths]` attribute, in order to only keep the `[\"Deaths]` column from the dataset\n",
        "* Then, we set the data type for the index (Years) to \"integer\"."
      ]
    },
    {
      "cell_type": "code",
      "metadata": {
        "id": "17nyzF4asdht",
        "colab_type": "code",
        "colab": {},
        "outputId": "a2035519-16b8-46b8-efff-96bf5bcece17"
      },
      "source": [
        "deaths = pd.read_csv(\"causes.txt\",sep='\\t',index_col=\"Year\", header=(0)).dropna(thresh=2)[\"Deaths\"]\n",
        "deaths.index = deaths.index.astype(int)\n",
        "deaths.head(5)"
      ],
      "execution_count": 0,
      "outputs": [
        {
          "output_type": "execute_result",
          "data": {
            "text/plain": [
              "Year\n",
              "1999    330.0\n",
              "2000    327.0\n",
              "2001    456.0\n",
              "2002    509.0\n",
              "2003    497.0\n",
              "Name: Deaths, dtype: float64"
            ]
          },
          "metadata": {
            "tags": []
          },
          "execution_count": 4
        }
      ]
    },
    {
      "cell_type": "markdown",
      "metadata": {
        "id": "5AQimfOksdhz",
        "colab_type": "text"
      },
      "source": [
        "##### Keeping the same rows (Years) for both dataset\n",
        "\n",
        "We observe, that for the Cheese Consumption dataset we have available data for more years than the Causes of Death dataset. However, if we want to compare the 2 datasets, we must only keep the years they have in common."
      ]
    },
    {
      "cell_type": "code",
      "metadata": {
        "id": "ribPVy4osdh0",
        "colab_type": "code",
        "colab": {}
      },
      "source": [
        "cheese = cheese.loc[cheese.index.isin(deaths.index)] #keeping only the years for which we have data for both variables"
      ],
      "execution_count": 0,
      "outputs": []
    },
    {
      "cell_type": "markdown",
      "metadata": {
        "id": "8Zd3BUP4sdh3",
        "colab_type": "text"
      },
      "source": [
        "##### Sum of Cheese Consumption\n",
        "\n",
        "Finally, we create a new Series, that has - for each year - the sum of cheese consumption, based on the 3 categories (american cheese, other cheese, cottage cheese)."
      ]
    },
    {
      "cell_type": "code",
      "metadata": {
        "id": "ooUS5zI8sdiA",
        "colab_type": "code",
        "colab": {}
      },
      "source": [
        "total_cheese = (cheese[\"american_cheese\"] + cheese[\"other_cheese\"] + cheese[\"cottage_cheese\"]).rename(columns={\"0\": \"american_cheese\",\n",
        "                                             \"Unnamed: 5\": \"other_cheese\", \n",
        "                                             \"Unnamed: 6\": \"cottage_cheese\"})"
      ],
      "execution_count": 0,
      "outputs": []
    },
    {
      "cell_type": "markdown",
      "metadata": {
        "id": "ELmiJvqwsdiD",
        "colab_type": "text"
      },
      "source": [
        "##### Testing for Normality\n",
        "\n",
        "Before calculating the correlation between the 2 variables, we need to check if we can assume a normal distribution, using the `normaltest()` function from the `scipy.stats` library.\n",
        "* If the normality assumption holds for both dataset, we can use the Pearson R metric for the correlation between the 2 variables.\n",
        "* If the normality assumption does not hold, we need to use the non-parametric Spearman R metric for the correlation."
      ]
    },
    {
      "cell_type": "code",
      "metadata": {
        "id": "Q-tYWHF9sdiE",
        "colab_type": "code",
        "colab": {},
        "outputId": "b70af3ac-e6b7-4bc4-d55e-6c590cb25793"
      },
      "source": [
        "stats.normaltest(total_cheese)"
      ],
      "execution_count": 0,
      "outputs": [
        {
          "output_type": "stream",
          "text": [
            "/Users/sotirisbaratsas/anaconda3/lib/python3.6/site-packages/scipy/stats/stats.py:1390: UserWarning: kurtosistest only valid for n>=20 ... continuing anyway, n=19\n",
            "  \"anyway, n=%i\" % int(n))\n"
          ],
          "name": "stderr"
        },
        {
          "output_type": "execute_result",
          "data": {
            "text/plain": [
              "NormaltestResult(statistic=0.8639127408732421, pvalue=0.6492377020247003)"
            ]
          },
          "metadata": {
            "tags": []
          },
          "execution_count": 7
        }
      ]
    },
    {
      "cell_type": "markdown",
      "metadata": {
        "id": "vM48JAYgsdiX",
        "colab_type": "text"
      },
      "source": [
        "Testing for Normality on the cheese consumption dataset, we observe a p-value = 0.65, which is far larger than our 0.05 sifnificance level. Therefore, we accept that our variable is normally distributed. "
      ]
    },
    {
      "cell_type": "code",
      "metadata": {
        "id": "daOHYFrGsdiY",
        "colab_type": "code",
        "colab": {},
        "outputId": "c829947c-960b-408d-f865-b03591f36dfa"
      },
      "source": [
        "stats.normaltest(deaths)"
      ],
      "execution_count": 0,
      "outputs": [
        {
          "output_type": "stream",
          "text": [
            "/Users/sotirisbaratsas/anaconda3/lib/python3.6/site-packages/scipy/stats/stats.py:1390: UserWarning: kurtosistest only valid for n>=20 ... continuing anyway, n=19\n",
            "  \"anyway, n=%i\" % int(n))\n"
          ],
          "name": "stderr"
        },
        {
          "output_type": "execute_result",
          "data": {
            "text/plain": [
              "NormaltestResult(statistic=0.7486999756575355, pvalue=0.6877361704141061)"
            ]
          },
          "metadata": {
            "tags": []
          },
          "execution_count": 8
        }
      ]
    },
    {
      "cell_type": "markdown",
      "metadata": {
        "id": "qjHqC5afsdic",
        "colab_type": "text"
      },
      "source": [
        "Testing for Normality on the Causes of Death dataset, we observe a p-value = 0.69, which is far larger than our 0.05 sifnificance level. Therefore, we accept that our variable is normally distributed. "
      ]
    },
    {
      "cell_type": "code",
      "metadata": {
        "id": "LUKnEPrVsdid",
        "colab_type": "code",
        "colab": {},
        "outputId": "932a8822-4616-491a-f0c2-81a09ad4fb24"
      },
      "source": [
        "stats.pearsonr(total_cheese, deaths)"
      ],
      "execution_count": 0,
      "outputs": [
        {
          "output_type": "execute_result",
          "data": {
            "text/plain": [
              "(0.9402610717856561, 2.2342487301301587e-09)"
            ]
          },
          "metadata": {
            "tags": []
          },
          "execution_count": 9
        }
      ]
    },
    {
      "cell_type": "markdown",
      "metadata": {
        "id": "XuGnuyYtsdii",
        "colab_type": "text"
      },
      "source": [
        "#### Calculating the Correlation\n",
        "\n",
        "Since both our variables are normally distributed, we can use the Pearson R metric to calculate the correlation between our 2 variables. Using, the `pearsonr()` function from `scipy.stats`, we calculate a Pearson R value = 0.94, which shows a very strong correlation between Per Capita Cheese Consumption and Deaths by Accidential Suffocation and Strangulation in Bed. Also, the p-value for testing non-correlation is very small, meaning we reject the hypothesis that our variables are <strong>not</strong> correlated."
      ]
    },
    {
      "cell_type": "markdown",
      "metadata": {
        "id": "ydHmhPgcsdij",
        "colab_type": "text"
      },
      "source": [
        "Finally, we can create a plot, to visualize the correlation between our 2 variables."
      ]
    },
    {
      "cell_type": "code",
      "metadata": {
        "id": "51VKW8LBsdik",
        "colab_type": "code",
        "colab": {},
        "outputId": "3dcba146-b596-426e-a246-bd12089ba042"
      },
      "source": [
        "deaths.plot(label=\"Deaths\", legend=True, figsize=(15, 5), xticks=deaths.index, \n",
        "            title=\"Correlation between Per Capita Cheese Consumption and Deaths by Accidential Suffocation and Strangulation in Bed\")\n",
        "plt.ylabel('Deaths')\n",
        "total_cheese.plot(secondary_y=True, label=\"Cheese\", legend=True, figsize=(15, 5), xticks=total_cheese.index)\n",
        "plt.ylabel('Per capita cheese consumption')\n",
        "plt.show()"
      ],
      "execution_count": 0,
      "outputs": [
        {
          "output_type": "display_data",
          "data": {
            "image/png": "[encoded data removed]",
            "text/plain": [
              "<matplotlib.figure.Figure at 0x1a0c540f60>"
            ]
          },
          "metadata": {
            "tags": []
          }
        }
      ]
    },
    {
      "cell_type": "markdown",
      "metadata": {
        "id": "Blg4n0Y8sdip",
        "colab_type": "text"
      },
      "source": [
        "## Doctorates and Mozarella\n",
        "\n",
        "Show that, in the U.S., the number of doctorates awarded in Biological and Biomedical Sciences is correlated with the per capita consumption of mozarella cheese. You must provide a figure, showing the situation, and the statistical results you find."
      ]
    },
    {
      "cell_type": "markdown",
      "metadata": {
        "id": "tl9F_HRlsdiq",
        "colab_type": "text"
      },
      "source": [
        "##### Reading the Doctorates dataset\n",
        "\n",
        "* We start by reading the Doctorates dataset, using the `read_csv()` function of pandas.\n",
        "* We set `','` as the separator, since we have comma-separated values.\n",
        "* We notice that the numeric values are shown as string with a comma indicating the thousands. That's why we use the argument `thousand=','` to indicate that.\n",
        "* We use the argument `skiprows=7`, in order to skip the introductory rows that do not provide numerical data.\n",
        "* We use the argument `index_col=0`, in order to set the \"Years\" column as the index.\n",
        "* We use the argument `usecols=[1]`, in order to keep only the column that shows the number of doctorates awarded.\n",
        "* We use the `.dropna(thresh=1)` function to get rid of the columns that have at least one Na or NaN value. That gets rid of the \"Notes\" in the footer of the dataset and leaves us only with the values we want.\n",
        "* Then, we set the data type for the index (Years), as well as the number of doctorates to \"integer\".\n",
        "* Finally, we rename the column that shows the number of doctorates and sort the series according to the index."
      ]
    },
    {
      "cell_type": "code",
      "metadata": {
        "id": "H2GOZzPssdi8",
        "colab_type": "code",
        "colab": {},
        "outputId": "6eaca8c6-0524-4894-f52a-7bf59c5d4d8e"
      },
      "source": [
        "doctorates = pd.read_csv(\"doctorates.csv\", sep=\",\", thousands=\",\", index_col=0, skiprows=7, usecols=[1]).dropna(thresh=1)\n",
        "doctorates.index = doctorates.index.astype(int)\n",
        "doctorates = doctorates.rename(columns={\"Unnamed: 1\": \"Doctorates\"}).sort_index()\n",
        "doctorates[\"Doctorates\"] = doctorates[\"Doctorates\"].astype(int)\n",
        "doctorates.head(5)"
      ],
      "execution_count": 0,
      "outputs": [
        {
          "output_type": "execute_result",
          "data": {
            "text/html": [
              "<div>\n",
              "<style scoped>\n",
              "    .dataframe tbody tr th:only-of-type {\n",
              "        vertical-align: middle;\n",
              "    }\n",
              "\n",
              "    .dataframe tbody tr th {\n",
              "        vertical-align: top;\n",
              "    }\n",
              "\n",
              "    .dataframe thead th {\n",
              "        text-align: right;\n",
              "    }\n",
              "</style>\n",
              "<table border=\"1\" class=\"dataframe\">\n",
              "  <thead>\n",
              "    <tr style=\"text-align: right;\">\n",
              "      <th></th>\n",
              "      <th>Doctorates</th>\n",
              "    </tr>\n",
              "  </thead>\n",
              "  <tbody>\n",
              "    <tr>\n",
              "      <th>1958</th>\n",
              "      <td>1201</td>\n",
              "    </tr>\n",
              "    <tr>\n",
              "      <th>1959</th>\n",
              "      <td>1140</td>\n",
              "    </tr>\n",
              "    <tr>\n",
              "      <th>1960</th>\n",
              "      <td>1246</td>\n",
              "    </tr>\n",
              "    <tr>\n",
              "      <th>1961</th>\n",
              "      <td>1244</td>\n",
              "    </tr>\n",
              "    <tr>\n",
              "      <th>1962</th>\n",
              "      <td>1397</td>\n",
              "    </tr>\n",
              "  </tbody>\n",
              "</table>\n",
              "</div>"
            ],
            "text/plain": [
              "      Doctorates\n",
              "1958        1201\n",
              "1959        1140\n",
              "1960        1246\n",
              "1961        1244\n",
              "1962        1397"
            ]
          },
          "metadata": {
            "tags": []
          },
          "execution_count": 11
        }
      ]
    },
    {
      "cell_type": "markdown",
      "metadata": {
        "id": "1-WVeH6qsdjA",
        "colab_type": "text"
      },
      "source": [
        "##### Reading the Mozarella dataset\n",
        "\n",
        "* We start by reading the Mozarella dataset, using the `read_excel()` function of pandas.\n",
        "* The peculiarity of this dataset, is that the values for the years since 1995 are in one data sheet, while the values from 1970 to 1994 are located in a different data sheet. For this reason, when we read the data, apart from the filename, we will define from which data sheet we want to read from.\n",
        "* We use the argument `skiprows=2`, in order to skip the introductory rows that do not provide numerical data.\n",
        "* We use the argument `index_col=0`, in order to set the \"Years\" column as the index.\n",
        "* We use the argument `usecols=[0,4]`, in order to keep only the columns that shows the years and the consumption of mozarella.\n",
        "* We use the `.dropna(thresh=1)` function to get rid of the columns that have at least one Na or NaN value. That gets rid of the \"Notes\" in the footer of the dataset and leaves us only with the values we want.\n",
        "* Then, we set the data type for the index (Years) to \"integer\"."
      ]
    },
    {
      "cell_type": "code",
      "metadata": {
        "id": "iPJ01mfCsdjB",
        "colab_type": "code",
        "colab": {},
        "outputId": "7dc2964f-bb24-4949-8f0b-2dcdb0c90903"
      },
      "source": [
        "mozarella1 = pd.read_excel(\"cheese_per_cap.xlsx\",\n",
        "                           \"Cheese per cap since '95\", # name of data sheet\n",
        "                           skiprows=2, usecols=[0,4], \n",
        "                           index_col=0).dropna(thresh=1)\n",
        "mozarella1.index = mozarella1.index.astype(int)\n",
        "mozarella1.head(5)"
      ],
      "execution_count": 0,
      "outputs": [
        {
          "output_type": "execute_result",
          "data": {
            "text/html": [
              "<div>\n",
              "<style scoped>\n",
              "    .dataframe tbody tr th:only-of-type {\n",
              "        vertical-align: middle;\n",
              "    }\n",
              "\n",
              "    .dataframe tbody tr th {\n",
              "        vertical-align: top;\n",
              "    }\n",
              "\n",
              "    .dataframe thead th {\n",
              "        text-align: right;\n",
              "    }\n",
              "</style>\n",
              "<table border=\"1\" class=\"dataframe\">\n",
              "  <thead>\n",
              "    <tr style=\"text-align: right;\">\n",
              "      <th></th>\n",
              "      <th>Mozzarella</th>\n",
              "    </tr>\n",
              "  </thead>\n",
              "  <tbody>\n",
              "    <tr>\n",
              "      <th>1995</th>\n",
              "      <td>7.894546</td>\n",
              "    </tr>\n",
              "    <tr>\n",
              "      <th>1996</th>\n",
              "      <td>8.220176</td>\n",
              "    </tr>\n",
              "    <tr>\n",
              "      <th>1997</th>\n",
              "      <td>8.164868</td>\n",
              "    </tr>\n",
              "    <tr>\n",
              "      <th>1998</th>\n",
              "      <td>8.326136</td>\n",
              "    </tr>\n",
              "    <tr>\n",
              "      <th>1999</th>\n",
              "      <td>8.737508</td>\n",
              "    </tr>\n",
              "  </tbody>\n",
              "</table>\n",
              "</div>"
            ],
            "text/plain": [
              "      Mozzarella\n",
              "1995    7.894546\n",
              "1996    8.220176\n",
              "1997    8.164868\n",
              "1998    8.326136\n",
              "1999    8.737508"
            ]
          },
          "metadata": {
            "tags": []
          },
          "execution_count": 12
        }
      ]
    },
    {
      "cell_type": "markdown",
      "metadata": {
        "id": "fmeTUyjxsdjR",
        "colab_type": "text"
      },
      "source": [
        "We perform the same operations for the other part of the data set, that show the data from 1970 to 1994."
      ]
    },
    {
      "cell_type": "code",
      "metadata": {
        "id": "2OhUD1vbsdjS",
        "colab_type": "code",
        "colab": {},
        "outputId": "4fe9392e-86b5-4435-cad1-94842dcfdc11"
      },
      "source": [
        "mozarella2 = pd.read_excel(\"cheese_per_cap.xlsx\", \n",
        "                           \"Cheese per cap '70-'94\", \n",
        "                           skiprows=3, usecols=[0,7], \n",
        "                           index_col=0).dropna(thresh=1).head(25)\n",
        "mozarella2 = mozarella2.rename(columns={\"Unnamed: 1\": \"Mozzarella\"})\n",
        "mozarella2.index = mozarella2.index.astype(int)\n",
        "mozarella2.tail(5)"
      ],
      "execution_count": 0,
      "outputs": [
        {
          "output_type": "execute_result",
          "data": {
            "text/html": [
              "<div>\n",
              "<style scoped>\n",
              "    .dataframe tbody tr th:only-of-type {\n",
              "        vertical-align: middle;\n",
              "    }\n",
              "\n",
              "    .dataframe tbody tr th {\n",
              "        vertical-align: top;\n",
              "    }\n",
              "\n",
              "    .dataframe thead th {\n",
              "        text-align: right;\n",
              "    }\n",
              "</style>\n",
              "<table border=\"1\" class=\"dataframe\">\n",
              "  <thead>\n",
              "    <tr style=\"text-align: right;\">\n",
              "      <th></th>\n",
              "      <th>Mozzarella</th>\n",
              "    </tr>\n",
              "  </thead>\n",
              "  <tbody>\n",
              "    <tr>\n",
              "      <th>1990</th>\n",
              "      <td>6.88032</td>\n",
              "    </tr>\n",
              "    <tr>\n",
              "      <th>1991</th>\n",
              "      <td>7.15183</td>\n",
              "    </tr>\n",
              "    <tr>\n",
              "      <th>1992</th>\n",
              "      <td>7.62614</td>\n",
              "    </tr>\n",
              "    <tr>\n",
              "      <th>1993</th>\n",
              "      <td>7.41562</td>\n",
              "    </tr>\n",
              "    <tr>\n",
              "      <th>1994</th>\n",
              "      <td>7.75714</td>\n",
              "    </tr>\n",
              "  </tbody>\n",
              "</table>\n",
              "</div>"
            ],
            "text/plain": [
              "     Mozzarella\n",
              "1990    6.88032\n",
              "1991    7.15183\n",
              "1992    7.62614\n",
              "1993    7.41562\n",
              "1994    7.75714"
            ]
          },
          "metadata": {
            "tags": []
          },
          "execution_count": 13
        }
      ]
    },
    {
      "cell_type": "markdown",
      "metadata": {
        "id": "JqIt5NPAsdjY",
        "colab_type": "text"
      },
      "source": [
        "Then, we concatenate the 2 data Series into one Series and sort it, using the index (Years). <br />\n",
        "Now, our new Series `mozarella`, containts all the data from 1970 to 2017."
      ]
    },
    {
      "cell_type": "code",
      "metadata": {
        "id": "9Z07KjMhsdjZ",
        "colab_type": "code",
        "colab": {},
        "outputId": "1bc2b7a7-5927-497c-ef0f-3a4fcba34f1b"
      },
      "source": [
        "mozarella = pd.concat([mozarella1, mozarella2], axis=0).sort_index()\n",
        "mozarella.head(5)"
      ],
      "execution_count": 0,
      "outputs": [
        {
          "output_type": "execute_result",
          "data": {
            "text/html": [
              "<div>\n",
              "<style scoped>\n",
              "    .dataframe tbody tr th:only-of-type {\n",
              "        vertical-align: middle;\n",
              "    }\n",
              "\n",
              "    .dataframe tbody tr th {\n",
              "        vertical-align: top;\n",
              "    }\n",
              "\n",
              "    .dataframe thead th {\n",
              "        text-align: right;\n",
              "    }\n",
              "</style>\n",
              "<table border=\"1\" class=\"dataframe\">\n",
              "  <thead>\n",
              "    <tr style=\"text-align: right;\">\n",
              "      <th></th>\n",
              "      <th>Mozzarella</th>\n",
              "    </tr>\n",
              "  </thead>\n",
              "  <tbody>\n",
              "    <tr>\n",
              "      <th>1970</th>\n",
              "      <td>1.18764</td>\n",
              "    </tr>\n",
              "    <tr>\n",
              "      <th>1971</th>\n",
              "      <td>1.37951</td>\n",
              "    </tr>\n",
              "    <tr>\n",
              "      <th>1972</th>\n",
              "      <td>1.57094</td>\n",
              "    </tr>\n",
              "    <tr>\n",
              "      <th>1973</th>\n",
              "      <td>1.76314</td>\n",
              "    </tr>\n",
              "    <tr>\n",
              "      <th>1974</th>\n",
              "      <td>1.85777</td>\n",
              "    </tr>\n",
              "  </tbody>\n",
              "</table>\n",
              "</div>"
            ],
            "text/plain": [
              "     Mozzarella\n",
              "1970    1.18764\n",
              "1971    1.37951\n",
              "1972    1.57094\n",
              "1973    1.76314\n",
              "1974    1.85777"
            ]
          },
          "metadata": {
            "tags": []
          },
          "execution_count": 14
        }
      ]
    },
    {
      "cell_type": "code",
      "metadata": {
        "id": "xo5jF0WWsdjg",
        "colab_type": "code",
        "colab": {},
        "outputId": "c0b7a993-5d7d-4945-b116-e875bd805f4d"
      },
      "source": [
        "mozarella.tail(5)"
      ],
      "execution_count": 0,
      "outputs": [
        {
          "output_type": "execute_result",
          "data": {
            "text/html": [
              "<div>\n",
              "<style scoped>\n",
              "    .dataframe tbody tr th:only-of-type {\n",
              "        vertical-align: middle;\n",
              "    }\n",
              "\n",
              "    .dataframe tbody tr th {\n",
              "        vertical-align: top;\n",
              "    }\n",
              "\n",
              "    .dataframe thead th {\n",
              "        text-align: right;\n",
              "    }\n",
              "</style>\n",
              "<table border=\"1\" class=\"dataframe\">\n",
              "  <thead>\n",
              "    <tr style=\"text-align: right;\">\n",
              "      <th></th>\n",
              "      <th>Mozzarella</th>\n",
              "    </tr>\n",
              "  </thead>\n",
              "  <tbody>\n",
              "    <tr>\n",
              "      <th>2013</th>\n",
              "      <td>10.7318</td>\n",
              "    </tr>\n",
              "    <tr>\n",
              "      <th>2014</th>\n",
              "      <td>11.1656</td>\n",
              "    </tr>\n",
              "    <tr>\n",
              "      <th>2015</th>\n",
              "      <td>11.2681</td>\n",
              "    </tr>\n",
              "    <tr>\n",
              "      <th>2016</th>\n",
              "      <td>11.7252</td>\n",
              "    </tr>\n",
              "    <tr>\n",
              "      <th>2017</th>\n",
              "      <td>11.57</td>\n",
              "    </tr>\n",
              "  </tbody>\n",
              "</table>\n",
              "</div>"
            ],
            "text/plain": [
              "     Mozzarella\n",
              "2013    10.7318\n",
              "2014    11.1656\n",
              "2015    11.2681\n",
              "2016    11.7252\n",
              "2017      11.57"
            ]
          },
          "metadata": {
            "tags": []
          },
          "execution_count": 15
        }
      ]
    },
    {
      "cell_type": "markdown",
      "metadata": {
        "id": "ldJziegfsdjk",
        "colab_type": "text"
      },
      "source": [
        "##### Keeping the same rows (Years) for both dataset\n",
        "\n",
        "We observe, that for the Doctorates dataset we have available data for more years than the Mozarella dataset. However, if we want to compare the 2 datasets, we must only keep the years they have in common."
      ]
    },
    {
      "cell_type": "code",
      "metadata": {
        "id": "R_gZW7lFsdjl",
        "colab_type": "code",
        "colab": {},
        "outputId": "ae5c1331-5e70-4483-bef7-7836d0573833"
      },
      "source": [
        "doctorates = doctorates.loc[doctorates.index.isin(mozarella.index)] \n",
        "#keeping only the years for which we have data for both variables\n",
        "doctorates.head()"
      ],
      "execution_count": 0,
      "outputs": [
        {
          "output_type": "execute_result",
          "data": {
            "text/html": [
              "<div>\n",
              "<style scoped>\n",
              "    .dataframe tbody tr th:only-of-type {\n",
              "        vertical-align: middle;\n",
              "    }\n",
              "\n",
              "    .dataframe tbody tr th {\n",
              "        vertical-align: top;\n",
              "    }\n",
              "\n",
              "    .dataframe thead th {\n",
              "        text-align: right;\n",
              "    }\n",
              "</style>\n",
              "<table border=\"1\" class=\"dataframe\">\n",
              "  <thead>\n",
              "    <tr style=\"text-align: right;\">\n",
              "      <th></th>\n",
              "      <th>Doctorates</th>\n",
              "    </tr>\n",
              "  </thead>\n",
              "  <tbody>\n",
              "    <tr>\n",
              "      <th>1970</th>\n",
              "      <td>3361</td>\n",
              "    </tr>\n",
              "    <tr>\n",
              "      <th>1971</th>\n",
              "      <td>3654</td>\n",
              "    </tr>\n",
              "    <tr>\n",
              "      <th>1972</th>\n",
              "      <td>3600</td>\n",
              "    </tr>\n",
              "    <tr>\n",
              "      <th>1973</th>\n",
              "      <td>3648</td>\n",
              "    </tr>\n",
              "    <tr>\n",
              "      <th>1974</th>\n",
              "      <td>3484</td>\n",
              "    </tr>\n",
              "  </tbody>\n",
              "</table>\n",
              "</div>"
            ],
            "text/plain": [
              "      Doctorates\n",
              "1970        3361\n",
              "1971        3654\n",
              "1972        3600\n",
              "1973        3648\n",
              "1974        3484"
            ]
          },
          "metadata": {
            "tags": []
          },
          "execution_count": 16
        }
      ]
    },
    {
      "cell_type": "markdown",
      "metadata": {
        "id": "XrA_WCfqsdjr",
        "colab_type": "text"
      },
      "source": [
        "##### Testing for Normality\n",
        "\n",
        "Before calculating the correlation between the 2 variables, we need to check if we can assume a normal distribution, using the `normaltest()` function from the `scipy.stats` library.\n",
        "* If the normality assumption holds for both dataset, we can use the Pearson R metric for the correlation between the 2 variables.\n",
        "* If the normality assumption does not hold, we need to use the non-parametric Spearman R metric for the correlation."
      ]
    },
    {
      "cell_type": "code",
      "metadata": {
        "id": "3pjwZHEPsdjs",
        "colab_type": "code",
        "colab": {},
        "outputId": "2142f4e0-e836-4c6f-cb6e-917ca73f9076"
      },
      "source": [
        "stats.normaltest(doctorates[\"Doctorates\"])"
      ],
      "execution_count": 0,
      "outputs": [
        {
          "output_type": "execute_result",
          "data": {
            "text/plain": [
              "NormaltestResult(statistic=8.025644594718873, pvalue=0.018082289554945043)"
            ]
          },
          "metadata": {
            "tags": []
          },
          "execution_count": 17
        }
      ]
    },
    {
      "cell_type": "markdown",
      "metadata": {
        "id": "c4FdOdsQsdj1",
        "colab_type": "text"
      },
      "source": [
        "Testing for Normality on the Doctorates dataset, we observe a p-value = 0.02, which is lower than our 0.05 sifnificance level. Therefore, we reject the hypothesis that our variable is normally distributed. "
      ]
    },
    {
      "cell_type": "code",
      "metadata": {
        "id": "mXnXqmUZsdj2",
        "colab_type": "code",
        "colab": {},
        "outputId": "a187f1d5-5952-43bd-f4af-510f6fe0df94"
      },
      "source": [
        "stats.normaltest(mozarella[\"Mozzarella\"])"
      ],
      "execution_count": 0,
      "outputs": [
        {
          "output_type": "execute_result",
          "data": {
            "text/plain": [
              "NormaltestResult(statistic=24.110617238398063, pvalue=5.813611269354502e-06)"
            ]
          },
          "metadata": {
            "tags": []
          },
          "execution_count": 18
        }
      ]
    },
    {
      "cell_type": "markdown",
      "metadata": {
        "id": "wW7r3V5Wsdj5",
        "colab_type": "text"
      },
      "source": [
        "In the same way, testing for Normality on the Mozarella dataset, we observe a p-value = 5.8e-06, which is far lower than our 0.05 sifnificance level. Therefore, we reject the hypothesis that our variable is normally distributed. "
      ]
    },
    {
      "cell_type": "markdown",
      "metadata": {
        "id": "IZno4tzfsdj6",
        "colab_type": "text"
      },
      "source": [
        "We can confirm that our variables are not normally distributes, using a QQplot"
      ]
    },
    {
      "cell_type": "code",
      "metadata": {
        "id": "kTabg8ZOsd6W",
        "colab_type": "code",
        "colab": {},
        "outputId": "57a8847e-d57b-4a20-b07a-8b8ac767542b"
      },
      "source": [
        "import numpy.random as random\n",
        "\n",
        "norm=random.normal(0,2,len(doctorates[\"Doctorates\"]))\n",
        "norm.sort()\n",
        "plt.figure(figsize=(12,8),facecolor='1.0') \n",
        "\n",
        "plt.plot(norm,doctorates[\"Doctorates\"],\"o\")\n",
        "\n",
        "#generate a trend line as in http://widu.tumblr.com/post/43624347354/matplotlib-trendline\n",
        "z = np.polyfit(norm,doctorates[\"Doctorates\"], 1)\n",
        "p = np.poly1d(z)\n",
        "plt.plot(norm,p(norm),\"k--\", linewidth=2)\n",
        "plt.title(\"Normal Q-Q plot\", size=28)\n",
        "plt.xlabel(\"Theoretical quantiles\", size=24)\n",
        "plt.ylabel(\"Expreimental quantiles\", size=24)\n",
        "plt.tick_params(labelsize=16)\n",
        "plt.show()"
      ],
      "execution_count": 0,
      "outputs": [
        {
          "output_type": "display_data",
          "data": {
            "image/png": "[encoded data removed]",
            "text/plain": [
              "<matplotlib.figure.Figure at 0x1a1210e320>"
            ]
          },
          "metadata": {
            "tags": []
          }
        }
      ]
    },
    {
      "cell_type": "code",
      "metadata": {
        "id": "RR1KnRtdsd6z",
        "colab_type": "code",
        "colab": {},
        "outputId": "b9111168-1776-4833-d2bf-15de0dcac3ae"
      },
      "source": [
        "norm=random.normal(0,2,len(mozarella[\"Mozzarella\"]))\n",
        "norm.sort()\n",
        "plt.figure(figsize=(12,8),facecolor='1.0') \n",
        "\n",
        "plt.plot(norm,mozarella[\"Mozzarella\"],\"o\")\n",
        "\n",
        "#generate a trend line as in http://widu.tumblr.com/post/43624347354/matplotlib-trendline\n",
        "z = np.polyfit(norm,mozarella[\"Mozzarella\"], 1)\n",
        "p = np.poly1d(z)\n",
        "plt.plot(norm,p(norm),\"k--\", linewidth=2)\n",
        "plt.title(\"Normal Q-Q plot\", size=28)\n",
        "plt.xlabel(\"Theoretical quantiles\", size=24)\n",
        "plt.ylabel(\"Expreimental quantiles\", size=24)\n",
        "plt.tick_params(labelsize=16)\n",
        "plt.show()"
      ],
      "execution_count": 0,
      "outputs": [
        {
          "output_type": "display_data",
          "data": {
            "image/png": "[encoded data removed]",
            "text/plain": [
              "<matplotlib.figure.Figure at 0x1a15736b70>"
            ]
          },
          "metadata": {
            "tags": []
          }
        }
      ]
    },
    {
      "cell_type": "markdown",
      "metadata": {
        "id": "rlnw5no5sd7F",
        "colab_type": "text"
      },
      "source": [
        "#### Calculating the Correlation\n",
        "\n",
        "Since neither of our variables is normally distributed, we can not use the Pearson R metric to calculate the correlation between our 2 variables. We have to use the non-paremetric Spearman R metric.<br />\n",
        "\n",
        "Using, the `spearmanr()` function from `scipy.stats`, we calculate a Spearman R value = 0.98, which shows a very strong correlation between Per Capita Mozarella Consumption and the Number of Doctorates awarded in Biological and Biomedical sciences. Also, the p-value for testing non-correlation is very small, meaning we reject the hypothesis that our variables are <strong>not</strong> correlated."
      ]
    },
    {
      "cell_type": "code",
      "metadata": {
        "id": "2UVKPS-Tsd7F",
        "colab_type": "code",
        "colab": {},
        "outputId": "83efc0ab-46f9-427f-94ed-00df9cef84a5"
      },
      "source": [
        "stats.spearmanr(doctorates, mozarella)"
      ],
      "execution_count": 0,
      "outputs": [
        {
          "output_type": "execute_result",
          "data": {
            "text/plain": [
              "SpearmanrResult(correlation=0.9783422909706453, pvalue=4.086268755539459e-33)"
            ]
          },
          "metadata": {
            "tags": []
          },
          "execution_count": 21
        }
      ]
    },
    {
      "cell_type": "markdown",
      "metadata": {
        "id": "IZFX8FjJsd7J",
        "colab_type": "text"
      },
      "source": [
        "#### Visualizing the Correlation\n",
        "\n",
        "We can also visualize the correlation between our 2 variables, using a plot"
      ]
    },
    {
      "cell_type": "code",
      "metadata": {
        "id": "_acPYCm-sd7K",
        "colab_type": "code",
        "colab": {},
        "outputId": "e4f641d7-153b-40a0-a481-bf7d2dc1b5ad"
      },
      "source": [
        "doctorates[\"Doctorates\"].plot(label=\"Doctorates\", legend=True, figsize=(15, 5),\n",
        "                title=\"Correlation between Per Capita Mozarella Consumption and doctorates awarded in Biological and Biomedical Sciences\")\n",
        "plt.ylabel('Doctorates')\n",
        "mozarella[\"Mozzarella\"].plot(secondary_y=True, label=\"Mozarella\", legend=True, figsize=(15, 5))\n",
        "plt.ylabel('Per capita mozarella consumption')\n",
        "plt.show()"
      ],
      "execution_count": 0,
      "outputs": [
        {
          "output_type": "display_data",
          "data": {
            "image/png": "[encoded data removed]",
            "text/plain": [
              "<matplotlib.figure.Figure at 0x1a1214c048>"
            ]
          },
          "metadata": {
            "tags": []
          }
        }
      ]
    }
  ]
}